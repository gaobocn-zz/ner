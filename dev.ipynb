{
 "cells": [
  {
   "cell_type": "code",
   "execution_count": 79,
   "metadata": {
    "collapsed": true
   },
   "outputs": [],
   "source": [
    "import time\n",
    "import re\n",
    "\n",
    "import tensorflow as tf\n",
    "import numpy as np\n",
    "\n",
    "from tageval import evaluate_tagging_file"
   ]
  },
  {
   "cell_type": "code",
   "execution_count": 120,
   "metadata": {
    "collapsed": true
   },
   "outputs": [],
   "source": [
    "class MyConfig(object):\n",
    "    '''My configuration'''\n",
    "    learning_rate = 0.0001\n",
    "    embed_dim = 300\n",
    "    hidden_dim = 256\n",
    "    step_n = 52 # max sentence length\n",
    "    layers_n = 2\n",
    "    class_n = 2\n",
    "    random_scale = 0.1\n",
    "    keep_prob = 1.0 # used for dropout\n",
    "    forget_bias = 1.0\n",
    "    grad_clip = 10\n",
    "    # below are related to training\n",
    "    epoch_n = 5\n",
    "    batch_size = 10\n",
    "    display_iter = 1000\n",
    "\n",
    "config = MyConfig()"
   ]
  },
  {
   "cell_type": "code",
   "execution_count": 45,
   "metadata": {
    "collapsed": true
   },
   "outputs": [],
   "source": [
    "dev_out_path = './t_result'"
   ]
  },
  {
   "cell_type": "code",
   "execution_count": 97,
   "metadata": {
    "collapsed": false
   },
   "outputs": [
    {
     "name": "stdout",
     "output_type": "stream",
     "text": [
      "52 41 52\n"
     ]
    }
   ],
   "source": [
    "# def find_max_len(data_path):\n",
    "#     max_len = 0\n",
    "#     for sentence in open(data_path, encoding='utf-8').read().strip().split('\\n\\n'):\n",
    "#         max_len = max(max_len, len(sentence.strip().split('\\n')))\n",
    "#     return max_len\n",
    "\n",
    "# train_max_len = max(find_max_len('./data/train/train.txt'), find_max_len('./conll_data/conll2003_train.txt'))\n",
    "# dev_max_len = find_max_len('./data/dev/dev.txt')\n",
    "# test_max_len = find_max_len('./data/test/test.nolabels.txt')\n",
    "# print(train_max_len, dev_max_len, test_max_len)"
   ]
  },
  {
   "cell_type": "code",
   "execution_count": 98,
   "metadata": {
    "collapsed": true
   },
   "outputs": [],
   "source": [
    "mycompile = lambda pat:  re.compile(pat,  re.UNICODE)\n",
    "re_patten = {'<NUM>': mycompile('^[0-9\\.,/-]+$'),\n",
    "             '<URL>': mycompile('https?://\\S+')}\n",
    "\n",
    "def norm_word(word):\n",
    "    '''normalize word'''\n",
    "    if len(word) > 0 and word[0] == '@':\n",
    "        return'<@>'\n",
    "    for key, patten in re_patten.items():\n",
    "        if patten.match(word):\n",
    "            return key\n",
    "    return word\n",
    "\n",
    "def get_words(data_path):\n",
    "    words_list = []\n",
    "    for sentence in open(data_path, encoding='utf-8').read().strip().split('\\n\\n'):\n",
    "        for line in sentence.strip().split('\\n'):\n",
    "            words_list.append(norm_word(line.strip().split('\\t')[0]))\n",
    "    return words_list\n",
    "\n",
    "def get_words_dict(word_list):\n",
    "    '''get words_dict'''\n",
    "    words_set = set(['<PAD>', '<@>', '<UKN>'])\n",
    "    for word in word_list:\n",
    "        words_set.add(word)\n",
    "    words_dict = dict(zip(words_set, range(len(words_set))))\n",
    "    return words_dict\n",
    "\n",
    "# def get_words_dict(data_path):\n",
    "#     '''get words_dict'''\n",
    "#     words_set = set(['<PAD>', '<@>', '<UKN>'])\n",
    "#     for sentence in open(data_path, encoding='utf-8').read().strip().split('\\n\\n'):\n",
    "#         for line in sentence.strip().split('\\n'):\n",
    "#             words_set.add(norm_word(line.strip().split('\\t')[0]))\n",
    "#     words_dict = dict(zip(words_set, range(len(words_set))))\n",
    "#     return words_dict"
   ]
  },
  {
   "cell_type": "code",
   "execution_count": 99,
   "metadata": {
    "collapsed": false
   },
   "outputs": [
    {
     "name": "stdout",
     "output_type": "stream",
     "text": [
      "vocab_size: 31525\n"
     ]
    }
   ],
   "source": [
    "words_list = get_words('./data/train/train.txt')\n",
    "words_list.extend(get_words('./conll_data/conll2003_train.txt'))\n",
    "words_dict = get_words_dict(words_list)\n",
    "vocab_size = len(words_dict)\n",
    "print('vocab_size:', vocab_size)"
   ]
  },
  {
   "cell_type": "code",
   "execution_count": 6,
   "metadata": {
    "collapsed": false
   },
   "outputs": [
    {
     "name": "stdout",
     "output_type": "stream",
     "text": [
      "vocab_size: 9456\n"
     ]
    }
   ],
   "source": [
    "label_dict = {'O': 0, 'B': 1, 'I':1}\n",
    "\n",
    "# words_dict = get_words_dict('./data/train/train.txt')\n",
    "# vocab_size = len(words_dict)\n",
    "# print('vocab_size:', vocab_size)"
   ]
  },
  {
   "cell_type": "code",
   "execution_count": 113,
   "metadata": {
    "collapsed": false
   },
   "outputs": [
    {
     "name": "stdout",
     "output_type": "stream",
     "text": [
      "embed_np.shape: (31525, 300)\n"
     ]
    }
   ],
   "source": [
    "# load word2vec model pretrained on GoogleNews\n",
    "load_big_model = False\n",
    "if load_big_model:\n",
    "    import gensim\n",
    "    w2v_model = gensim.models.KeyedVectors.load_word2vec_format('./GoogleNews-vectors-negative300.bin.gz', binary=True)\n",
    "    embed_np = np.zeros((vocab_size, config.embed_dim), dtype=np.float32)\n",
    "    for key, val in words_dict.items():\n",
    "        if key in w2v_model:\n",
    "            embed_np[val] = w2v_model[key]\n",
    "    embed_np.dump('./my_embedding')\n",
    "    del w2v_model\n",
    "else:\n",
    "    embed_np = np.load('./my_embedding')\n",
    "print('embed_np.shape:', embed_np.shape)"
   ]
  },
  {
   "cell_type": "code",
   "execution_count": 17,
   "metadata": {
    "collapsed": true
   },
   "outputs": [],
   "source": [
    "def word_to_idx(word):\n",
    "    word = norm_word(word)\n",
    "    if word in words_dict:\n",
    "        return words_dict[word]\n",
    "    return words_dict['<UKN>']\n",
    "\n",
    "def load_data_label(data_path):\n",
    "    '''\n",
    "    Return\n",
    "    data: list [list [word]]\n",
    "    data_idx: np.array [num_sentence, num_words]\n",
    "    data_len: np.array [num_sentence]\n",
    "    label: np.array [num_sentence, num_words, 2]\n",
    "    '''\n",
    "    data, data_idx, data_len, label = [], [], [], []\n",
    "    for sentence in open(data_path, encoding='utf-8').read().strip().split('\\n\\n'):\n",
    "        sent_data, sent_data_idx, sent_label = [], [], []\n",
    "        for line in sentence.strip().split('\\n'):\n",
    "            line = line.strip().split('\\t')\n",
    "            sent_data.append(line[0])\n",
    "            sent_data_idx.append(word_to_idx(line[0]))\n",
    "            sent_label.append([0, 0])\n",
    "            sent_label[-1][label_dict[line[1]]] = 1\n",
    "        sent_data_idx.extend([words_dict['<PAD>']] * (config.step_n - len(sent_data_idx)))\n",
    "        sent_label.extend([[0, 0]] * (config.step_n - len(sent_label)))\n",
    "        data.append(sent_data)\n",
    "        data_idx.append(sent_data_idx)\n",
    "        data_len.append(len(sent_data))\n",
    "        label.append(sent_label)\n",
    "    return data, np.asarray(data_idx, dtype=np.int32), np.asarray(data_len, dtype=np.int32), np.asarray(label, dtype=np.int32)\n",
    "\n",
    "# def load_test_data(data_path):\n",
    "#     def load_data_label(data_path):\n",
    "#     '''\n",
    "#     Return\n",
    "#     data: list [list [word]]\n",
    "#     data_idx: np.array [num_sentence, num_words]\n",
    "#     data_len: np.array [num_sentence]\n",
    "#     '''"
   ]
  },
  {
   "cell_type": "code",
   "execution_count": 131,
   "metadata": {
    "collapsed": false
   },
   "outputs": [
    {
     "name": "stdout",
     "output_type": "stream",
     "text": [
      "\n",
      "\u001b[93m    Warning: no model found for 'en'\u001b[0m\n",
      "\n",
      "    Only loading the 'en' tokenizer.\n",
      "\n"
     ]
    }
   ],
   "source": [
    "import spacy\n",
    "nlp = spacy.load('en')\n",
    "doc = nlp(u'This is a sentence.')"
   ]
  },
  {
   "cell_type": "code",
   "execution_count": 132,
   "metadata": {
    "collapsed": false
   },
   "outputs": [
    {
     "name": "stdout",
     "output_type": "stream",
     "text": [
      "This 0  0  0 \n",
      "is 0  0  0 \n",
      "a 0  0  0 \n",
      "sentence 0  0  0 \n",
      ". 0  0  0 \n"
     ]
    }
   ],
   "source": [
    "for word in doc:\n",
    "    print(word.text, word.lemma, word.lemma_, word.tag, word.tag_, word.pos, word.pos_)"
   ]
  },
  {
   "cell_type": "code",
   "execution_count": 107,
   "metadata": {
    "collapsed": false
   },
   "outputs": [],
   "source": [
    "train_data, train_data_idx, train_data_len, train_label = load_data_label('./data/train/train.txt')\n",
    "dev_data, dev_data_idx, dev_data_len, dev_label = load_data_label('./data/dev/dev.txt')"
   ]
  },
  {
   "cell_type": "code",
   "execution_count": 108,
   "metadata": {
    "collapsed": true
   },
   "outputs": [],
   "source": [
    "train_data_conll, train_data_idx_conll, train_data_len_conll, train_label_conll = load_data_label('./conll_data/conll2003_train.txt')"
   ]
  },
  {
   "cell_type": "code",
   "execution_count": 109,
   "metadata": {
    "collapsed": false
   },
   "outputs": [],
   "source": [
    "train_data_idx = np.concatenate((train_data_idx, train_data_idx_conll), axis=0)\n",
    "train_data_len = np.concatenate((train_data_len, train_data_len_conll), axis=0)\n",
    "train_label = np.concatenate((train_label, train_label_conll), axis=0)"
   ]
  },
  {
   "cell_type": "code",
   "execution_count": 110,
   "metadata": {
    "collapsed": false
   },
   "outputs": [
    {
     "name": "stdout",
     "output_type": "stream",
     "text": [
      "(23072, 52) int32\n",
      "(23072, 52, 2) int32\n"
     ]
    }
   ],
   "source": [
    "print(train_data_idx.shape, train_data_idx.dtype)\n",
    "print(train_label.shape, train_label.dtype)"
   ]
  },
  {
   "cell_type": "code",
   "execution_count": 4,
   "metadata": {
    "collapsed": true
   },
   "outputs": [],
   "source": [
    "def get_lstm_cell(size):\n",
    "    '''Get a lstm cell with size and wrapped with dropout'''\n",
    "    return tf.contrib.rnn.DropoutWrapper(\n",
    "        tf.contrib.rnn.LSTMCell(\n",
    "            size, forget_bias=config.forget_bias, state_is_tuple=True\n",
    "        ),\n",
    "        output_keep_prob=config.keep_prob\n",
    "    )"
   ]
  },
  {
   "cell_type": "code",
   "execution_count": 121,
   "metadata": {
    "collapsed": false,
    "scrolled": false
   },
   "outputs": [],
   "source": [
    "tf.reset_default_graph() # clear old graph\n",
    "\n",
    "input_data = tf.placeholder(tf.int32, [None, config.step_n])\n",
    "input_len = tf.placeholder(tf.int32, [None])\n",
    "input_label = tf.placeholder(tf.float32, [None, config.step_n, config.class_n])\n",
    "\n",
    "embedding = tf.Variable(embed_np)\n",
    "softmax_w = tf.Variable(tf.random_normal(shape=[2 * config.hidden_dim, config.class_n], stddev=config.random_scale))\n",
    "softmax_b = tf.Variable(tf.random_normal(shape=[config.class_n], stddev=config.random_scale))\n",
    "\n",
    "input_embed = tf.nn.embedding_lookup(embedding, input_data)\n",
    "# should be [None, config.step_n, config.embed_dim]\n",
    "# print(input_embed.get_shape())\n",
    "\n",
    "fw_cell = tf.contrib.rnn.MultiRNNCell([get_lstm_cell(config.hidden_dim)] * config.layers_n, state_is_tuple=True)\n",
    "bw_cell = tf.contrib.rnn.MultiRNNCell([get_lstm_cell(config.hidden_dim)] * config.layers_n, state_is_tuple=True)\n",
    "output, _, _ = tf.contrib.rnn.static_bidirectional_rnn(fw_cell, bw_cell,\n",
    "                                       tf.unstack(tf.transpose(input_embed, perm=[1, 0, 2])),\n",
    "                                       dtype=tf.float32, sequence_length=input_len)\n",
    "output = tf.reshape(tf.transpose(tf.stack(output), perm=[1, 0, 2]), [-1, 2 * config.hidden_dim])\n",
    "# print('output:', output.get_shape())\n",
    "logits = tf.nn.softmax(tf.matmul(output, softmax_w) + softmax_b)\n",
    "logits = tf.reshape(logits, [-1, config.step_n, config.class_n])\n",
    "\n",
    "pred_y = tf.to_int32(tf.argmax(logits, 2))\n",
    "\n",
    "# print(logits.get_shape())\n",
    "# print(input_label.get_shape())\n",
    "\n",
    "cross_entropy = input_label * tf.log(logits)\n",
    "cross_entropy = -tf.reduce_sum(cross_entropy, reduction_indices=2)\n",
    "mask = tf.sign(tf.reduce_max(tf.abs(input_label), reduction_indices=2))\n",
    "cross_entropy *= mask\n",
    "cross_entropy = tf.reduce_sum(cross_entropy, reduction_indices=1)\n",
    "cross_entropy /= tf.cast(input_len, tf.float32)\n",
    "loss = tf.reduce_mean(cross_entropy)\n",
    "\n",
    "optimizer = tf.train.AdamOptimizer(config.learning_rate)\n",
    "tvars = tf.trainable_variables()\n",
    "grads, _ = tf.clip_by_global_norm(tf.gradients(loss, tvars), config.grad_clip)\n",
    "train_op = optimizer.apply_gradients(zip(grads, tvars))\n",
    "\n",
    "init = tf.global_variables_initializer()"
   ]
  },
  {
   "cell_type": "code",
   "execution_count": 122,
   "metadata": {
    "collapsed": false
   },
   "outputs": [
    {
     "name": "stdout",
     "output_type": "stream",
     "text": [
      "Iter 0, current loss: 0.78438\n",
      "Iter 1000, current loss: 0.27375\n",
      "Iter 2000, current loss: 0.20644\n",
      "Iter 3000, current loss: 0.59745\n",
      "Iter 4000, current loss: 0.22995\n",
      "Iter 5000, current loss: 0.22609\n",
      "Iter 6000, current loss: 0.29554\n",
      "Iter 7000, current loss: 0.26306\n",
      "Iter 8000, current loss: 0.11595\n",
      "Iter 9000, current loss: 0.08131\n",
      "Iter 10000, current loss: 0.08091\n",
      "Iter 11000, current loss: 0.01852\n",
      "Iter 12000, current loss: 0.09810\n",
      "Iter 13000, current loss: 0.07720\n",
      "Iter 14000, current loss: 0.02811\n",
      "Iter 15000, current loss: 0.05858\n",
      "Iter 16000, current loss: 0.01446\n",
      "Iter 17000, current loss: 0.01262\n",
      "Iter 18000, current loss: 0.01033\n",
      "Iter 19000, current loss: 0.03960\n",
      "Iter 20000, current loss: 0.36965\n",
      "Iter 21000, current loss: 0.02823\n",
      "Iter 22000, current loss: 0.08570\n",
      "Iter 23000, current loss: 0.03997\n",
      "Iter 0, current loss: 0.26396\n",
      "Iter 1000, current loss: 0.15037\n",
      "Iter 2000, current loss: 0.06800\n",
      "Iter 3000, current loss: 0.03756\n",
      "Iter 4000, current loss: 0.01938\n",
      "Iter 5000, current loss: 0.08270\n",
      "Iter 6000, current loss: 0.04676\n",
      "Iter 7000, current loss: 0.07543\n",
      "Iter 8000, current loss: 0.03072\n",
      "Iter 9000, current loss: 0.02771\n",
      "Iter 10000, current loss: 0.02759\n",
      "Iter 11000, current loss: 0.00415\n",
      "Iter 12000, current loss: 0.05631\n",
      "Iter 13000, current loss: 0.03646\n",
      "Iter 14000, current loss: 0.01597\n",
      "Iter 15000, current loss: 0.02796\n",
      "Iter 16000, current loss: 0.00469\n",
      "Iter 17000, current loss: 0.00831\n",
      "Iter 18000, current loss: 0.00237\n",
      "Iter 19000, current loss: 0.02064\n",
      "Iter 20000, current loss: 0.25556\n",
      "Iter 21000, current loss: 0.02984\n",
      "Iter 22000, current loss: 0.03747\n",
      "Iter 23000, current loss: 0.02210\n",
      "Iter 0, current loss: 0.22862\n",
      "Iter 1000, current loss: 0.09485\n",
      "Iter 2000, current loss: 0.04188\n",
      "Iter 3000, current loss: 0.02061\n",
      "Iter 4000, current loss: 0.01428\n",
      "Iter 5000, current loss: 0.02198\n",
      "Iter 6000, current loss: 0.05160\n",
      "Iter 7000, current loss: 0.03739\n",
      "Iter 8000, current loss: 0.01475\n",
      "Iter 9000, current loss: 0.01188\n",
      "Iter 10000, current loss: 0.00578\n",
      "Iter 11000, current loss: 0.00260\n",
      "Iter 12000, current loss: 0.03859\n",
      "Iter 13000, current loss: 0.01054\n",
      "Iter 14000, current loss: 0.00695\n",
      "Iter 15000, current loss: 0.01526\n",
      "Iter 16000, current loss: 0.00154\n",
      "Iter 17000, current loss: 0.00427\n",
      "Iter 18000, current loss: 0.00070\n",
      "Iter 19000, current loss: 0.00615\n",
      "Iter 20000, current loss: 0.16961\n",
      "Iter 21000, current loss: 0.02656\n",
      "Iter 22000, current loss: 0.01742\n",
      "Iter 23000, current loss: 0.01255\n",
      "Iter 0, current loss: 0.15295\n",
      "Iter 1000, current loss: 0.05608\n",
      "Iter 2000, current loss: 0.02884\n",
      "Iter 3000, current loss: 0.01128\n",
      "Iter 4000, current loss: 0.00705\n",
      "Iter 5000, current loss: 0.00734\n",
      "Iter 6000, current loss: 0.06630\n",
      "Iter 7000, current loss: 0.02038\n",
      "Iter 8000, current loss: 0.00814\n",
      "Iter 9000, current loss: 0.00515\n",
      "Iter 10000, current loss: 0.00195\n",
      "Iter 11000, current loss: 0.00216\n",
      "Iter 12000, current loss: 0.04294\n",
      "Iter 13000, current loss: 0.00273\n",
      "Iter 14000, current loss: 0.00243\n",
      "Iter 15000, current loss: 0.00922\n",
      "Iter 16000, current loss: 0.00039\n",
      "Iter 17000, current loss: 0.00113\n",
      "Iter 18000, current loss: 0.00022\n",
      "Iter 19000, current loss: 0.00154\n",
      "Iter 20000, current loss: 0.07573\n",
      "Iter 21000, current loss: 0.02075\n",
      "Iter 22000, current loss: 0.00951\n",
      "Iter 23000, current loss: 0.00328\n",
      "Iter 0, current loss: 0.06847\n",
      "Iter 1000, current loss: 0.03837\n",
      "Iter 2000, current loss: 0.02189\n",
      "Iter 3000, current loss: 0.00470\n",
      "Iter 4000, current loss: 0.00220\n",
      "Iter 5000, current loss: 0.00276\n",
      "Iter 6000, current loss: 0.08359\n",
      "Iter 7000, current loss: 0.01122\n",
      "Iter 8000, current loss: 0.00408\n",
      "Iter 9000, current loss: 0.00298\n",
      "Iter 10000, current loss: 0.00076\n",
      "Iter 11000, current loss: 0.00090\n",
      "Iter 12000, current loss: 0.02558\n",
      "Iter 13000, current loss: 0.00095\n",
      "Iter 14000, current loss: 0.00102\n",
      "Iter 15000, current loss: 0.00493\n",
      "Iter 16000, current loss: 0.00009\n",
      "Iter 17000, current loss: 0.00027\n",
      "Iter 18000, current loss: 0.00008\n",
      "Iter 19000, current loss: 0.00041\n",
      "Iter 20000, current loss: 0.01974\n",
      "Iter 21000, current loss: 0.01284\n",
      "Iter 22000, current loss: 0.00705\n",
      "Iter 23000, current loss: 0.00115\n",
      "Training complete, time used: 2394.961184501648\n"
     ]
    }
   ],
   "source": [
    "'''Training is here'''\n",
    "training_iters = train_data_idx.shape[0]\n",
    "\n",
    "sess = tf.Session()\n",
    "sess.run(init)\n",
    "\n",
    "start_t = time.time()\n",
    "for _ in range(config.epoch_n):\n",
    "    iter_i = 0\n",
    "    while iter_i < training_iters:\n",
    "        batch_x = train_data_idx[iter_i : min(len(train_data_idx), iter_i + config.batch_size)]\n",
    "        batch_y = train_label[iter_i : min(len(train_data_idx), iter_i + config.batch_size)]\n",
    "        batch_len = train_data_len[iter_i : min(len(train_data_idx), iter_i + config.batch_size)]\n",
    "        sess.run(train_op, feed_dict={input_data: batch_x, input_len: batch_len, input_label: batch_y})\n",
    "        if iter_i % config.display_iter == 0:\n",
    "            tloss = sess.run(loss, feed_dict={input_data: batch_x, input_len: batch_len, input_label: batch_y})\n",
    "            print('Iter %d, current loss: %.5f' % (iter_i, tloss))\n",
    "        iter_i += config.batch_size\n",
    "print('Training complete, time used:', time.time() - start_t)"
   ]
  },
  {
   "cell_type": "code",
   "execution_count": 74,
   "metadata": {
    "collapsed": false
   },
   "outputs": [],
   "source": [
    "def label_to_file(filename, label, data_len):\n",
    "    with open(filename, 'w') as ofile:\n",
    "        for sent_label, sent_len in zip(label, data_len):\n",
    "            for i in range(sent_len):\n",
    "                tlabel = 'O'\n",
    "                if sent_label[i] == 1:\n",
    "                    if i > 0 and sent_label[i-1] == 1:\n",
    "                        tlabel = 'I'\n",
    "                    else:\n",
    "                        tlabel = 'B'                    \n",
    "                ofile.write(tlabel+'\\n')\n",
    "            ofile.write('\\n')"
   ]
  },
  {
   "cell_type": "code",
   "execution_count": 123,
   "metadata": {
    "collapsed": true
   },
   "outputs": [],
   "source": [
    "dev_pred = sess.run(pred_y, feed_dict={input_data: dev_data_idx, input_len: dev_data_len})"
   ]
  },
  {
   "cell_type": "code",
   "execution_count": 124,
   "metadata": {
    "collapsed": true
   },
   "outputs": [],
   "source": [
    "label_to_file(dev_out_path, dev_pred, dev_data_len)"
   ]
  },
  {
   "cell_type": "code",
   "execution_count": 125,
   "metadata": {
    "collapsed": false
   },
   "outputs": [
    {
     "name": "stdout",
     "output_type": "stream",
     "text": [
      "Span-level NER evaluation\n",
      "F = 0.3323,  Prec = 0.3193 (159/498),  Rec = 0.3464 (159/459)\n",
      "(959 sentences, 13360 tokens, 459 gold spans, 498 predicted spans)\n"
     ]
    }
   ],
   "source": [
    "evaluate_tagging_file('./data/dev/dev.txt', dev_out_path)"
   ]
  }
 ],
 "metadata": {
  "anaconda-cloud": {},
  "kernelspec": {
   "display_name": "Python [conda root]",
   "language": "python",
   "name": "conda-root-py"
  },
  "language_info": {
   "codemirror_mode": {
    "name": "ipython",
    "version": 3
   },
   "file_extension": ".py",
   "mimetype": "text/x-python",
   "name": "python",
   "nbconvert_exporter": "python",
   "pygments_lexer": "ipython3",
   "version": "3.5.2"
  }
 },
 "nbformat": 4,
 "nbformat_minor": 0
}
